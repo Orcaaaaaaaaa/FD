{
 "cells": [
  {
   "cell_type": "code",
   "execution_count": 1,
   "id": "b8a21a45-3d2d-42be-bdb9-345680052060",
   "metadata": {
    "tags": []
   },
   "outputs": [],
   "source": [
    "import cv2\n",
    "import numpy as np\n",
    "import glob\n",
    "import os\n",
    "import pandas as pd"
   ]
  },
  {
   "cell_type": "code",
   "execution_count": 2,
   "id": "f5548f86-ad84-4d97-9622-a068aac6363f",
   "metadata": {
    "tags": []
   },
   "outputs": [],
   "source": [
    "def process_and_rotate_image(image_path):\n",
    "    # Load the image\n",
    "    image = cv2.imread(image_path)\n",
    "    gray = cv2.cvtColor(image, cv2.COLOR_BGR2GRAY)\n",
    "    inverted_gray = cv2.bitwise_not(gray)\n",
    "\n",
    "    # Find the contours in the inverted grayscale image\n",
    "    contours, _ = cv2.findContours(inverted_gray, cv2.RETR_EXTERNAL, cv2.CHAIN_APPROX_SIMPLE)\n",
    "\n",
    "    # Find the extreme points\n",
    "    x_largest = y_largest = 0\n",
    "    x_smallest = y_smallest = float('inf')\n",
    "\n",
    "    # Iterate through contours to find extreme points\n",
    "    for contour in contours:\n",
    "        for point in contour:\n",
    "            x, y = point[0]\n",
    "            if x > x_largest:\n",
    "                x_largest = x\n",
    "            if x < x_smallest:\n",
    "                x_smallest = x\n",
    "            if y > y_largest:\n",
    "                y_largest = y\n",
    "            if y < y_smallest:\n",
    "                y_smallest = y\n",
    "\n",
    "    # Calculate the center of the box\n",
    "    center_x = (x_largest + x_smallest) // 2\n",
    "    center_y = (y_largest + y_smallest) // 2\n",
    "\n",
    "    # Count the black pixels in each quadrant\n",
    "    quadrant_counts = {\n",
    "        \"top_right\": 0,\n",
    "        \"top_left\": 0,\n",
    "        \"bottom_left\": 0,\n",
    "        \"bottom_right\": 0\n",
    "    }\n",
    "\n",
    "    # Define the ranges for each quadrant\n",
    "    quadrants = {\n",
    "        \"top_right\": ((center_x, y_smallest), (x_largest, center_y)),   # Top-right\n",
    "        \"top_left\": ((x_smallest, y_smallest), (center_x, center_y)),  # Top-left\n",
    "        \"bottom_left\": ((x_smallest, center_y), (center_x, y_largest)),   # Bottom-left\n",
    "        \"bottom_right\": ((center_x, center_y), (x_largest, y_largest))     # Bottom-right\n",
    "    }\n",
    "\n",
    "    # Count black pixels in each quadrant\n",
    "    for key, ((start_x, start_y), (end_x, end_y)) in quadrants.items():\n",
    "        quadrant = inverted_gray[start_y:end_y, start_x:end_x]\n",
    "        quadrant_counts[key] = cv2.countNonZero(quadrant)\n",
    "\n",
    "    # Determine the rotation needed\n",
    "    ordered_quadrants = ['top_right', 'bottom_right', 'bottom_left', 'top_left']\n",
    "    max_black_pixels_quadrant = max(quadrant_counts, key=quadrant_counts.get)\n",
    "    rotation_count = ordered_quadrants.index(max_black_pixels_quadrant)\n",
    "\n",
    "    # Rotate the image counterclockwise\n",
    "    rotated_image = np.rot90(image, k=rotation_count)\n",
    "\n",
    "    # Save the rotated image\n",
    "    rotated_image_path = image_path.replace('.png', '_rotated.png')\n",
    "    cv2.imwrite(rotated_image_path, rotated_image)\n",
    "\n",
    "    return rotated_image_path, quadrant_counts, rotation_count"
   ]
  },
  {
   "cell_type": "code",
   "execution_count": 3,
   "id": "2adcea04-4c55-4729-aa0e-30c1136ccfe7",
   "metadata": {
    "tags": []
   },
   "outputs": [],
   "source": [
    "cwd = os.getcwd()\n",
    "files = glob.glob('*.png')\n",
    "for file in files:\n",
    "    rotated_image_path, quadrant_counts, rotation_count = process_and_rotate_image(file)"
   ]
  },
  {
   "cell_type": "code",
   "execution_count": null,
   "id": "791db7f5-69a8-470d-98e1-3ac2167d4dd5",
   "metadata": {},
   "outputs": [],
   "source": []
  }
 ],
 "metadata": {
  "kernelspec": {
   "display_name": "Python 3 (ipykernel)",
   "language": "python",
   "name": "python3"
  },
  "language_info": {
   "codemirror_mode": {
    "name": "ipython",
    "version": 3
   },
   "file_extension": ".py",
   "mimetype": "text/x-python",
   "name": "python",
   "nbconvert_exporter": "python",
   "pygments_lexer": "ipython3",
   "version": "3.10.9"
  }
 },
 "nbformat": 4,
 "nbformat_minor": 5
}
