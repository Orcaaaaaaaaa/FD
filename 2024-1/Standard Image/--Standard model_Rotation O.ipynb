{
 "cells": [
  {
   "cell_type": "code",
   "execution_count": 1,
   "metadata": {
    "tags": []
   },
   "outputs": [],
   "source": [
    "%matplotlib inline\n",
    "\n",
    "import cv2\n",
    "import numpy as np\n",
    "import scipy\n",
    "from scipy.spatial.distance import euclidean\n",
    "import os\n",
    "import pandas as pd\n",
    "import matplotlib.pyplot as plt\n",
    "from matplotlib.pyplot import cm\n",
    "import glob\n",
    "from tqdm import tqdm"
   ]
  },
  {
   "cell_type": "code",
   "execution_count": 2,
   "metadata": {},
   "outputs": [],
   "source": [
    "def process_and_rotate_image(file_name):\n",
    "    # Load the image\n",
    "    image_path = file_name + '.png'\n",
    "    image = cv2.imread(image_path)\n",
    "    gray = cv2.cvtColor(image, cv2.COLOR_BGR2GRAY)\n",
    "    inverted_gray = cv2.bitwise_not(gray)\n",
    "\n",
    "    # Find the contours in the inverted grayscale image\n",
    "    contours, _ = cv2.findContours(inverted_gray, cv2.RETR_EXTERNAL, cv2.CHAIN_APPROX_SIMPLE)\n",
    "\n",
    "    # Find the extreme points\n",
    "    x_largest = y_largest = 0\n",
    "    x_smallest = y_smallest = float('inf')\n",
    "\n",
    "    # Iterate through contours to find extreme points\n",
    "    for contour in contours:\n",
    "        for point in contour:\n",
    "            x, y = point[0]\n",
    "            if x > x_largest:\n",
    "                x_largest = x\n",
    "            if x < x_smallest:\n",
    "                x_smallest = x\n",
    "            if y > y_largest:\n",
    "                y_largest = y\n",
    "            if y < y_smallest:\n",
    "                y_smallest = y\n",
    "\n",
    "    # Calculate the center of the box\n",
    "    center_x = (x_largest + x_smallest) // 2\n",
    "    center_y = (y_largest + y_smallest) // 2\n",
    "\n",
    "    # Count the black pixels in each quadrant\n",
    "    quadrant_counts = {\n",
    "        \"top_right\": 0,\n",
    "        \"top_left\": 0,\n",
    "        \"bottom_left\": 0,\n",
    "        \"bottom_right\": 0\n",
    "    }\n",
    "\n",
    "    # Define the ranges for each quadrant\n",
    "    quadrants = {\n",
    "        \"top_right\": ((center_x, y_smallest), (x_largest, center_y)),   # Top-right\n",
    "        \"top_left\": ((x_smallest, y_smallest), (center_x, center_y)),  # Top-left\n",
    "        \"bottom_left\": ((x_smallest, center_y), (center_x, y_largest)),   # Bottom-left\n",
    "        \"bottom_right\": ((center_x, center_y), (x_largest, y_largest))     # Bottom-right\n",
    "    }\n",
    "\n",
    "    # Count black pixels in each quadrant\n",
    "    for key, ((start_x, start_y), (end_x, end_y)) in quadrants.items():\n",
    "        quadrant = inverted_gray[start_y:end_y, start_x:end_x]\n",
    "        quadrant_counts[key] = cv2.countNonZero(quadrant)\n",
    "\n",
    "    # Determine the rotation needed\n",
    "    ordered_quadrants = ['top_right', 'bottom_right', 'bottom_left', 'top_left']\n",
    "    max_black_pixels_quadrant = max(quadrant_counts, key=quadrant_counts.get)\n",
    "    rotation_count = ordered_quadrants.index(max_black_pixels_quadrant)\n",
    "\n",
    "    # Rotate the image counterclockwise\n",
    "    rotated_image = np.rot90(image, k=rotation_count)\n",
    "    gray_image = cv2.cvtColor(rotated_image, cv2.COLOR_BGR2GRAY)\n",
    "    \n",
    "    #cv2.THRESH_BINARY 인지 cv2.THRESH_BINARY_INV 꼭 확인할것!\n",
    "    ret, thresh = cv2.threshold(gray_image, 50, 255, cv2.THRESH_BINARY_INV)\n",
    "    \n",
    "    return thresh"
   ]
  },
  {
   "cell_type": "code",
   "execution_count": 3,
   "metadata": {
    "tags": []
   },
   "outputs": [],
   "source": [
    "def find_a_contour(thresh):\n",
    "    contours, hierarchy = cv2.findContours(\n",
    "        thresh, \n",
    "        cv2.RETR_EXTERNAL, \n",
    "        cv2.CHAIN_APPROX_NONE)\n",
    "    ncnt = len(contours[:]) #ncnt = number of contour lines\n",
    "    chk = 0 #chk은 w번째 경계면을 이루는 좌표의 갯수이다\n",
    "    set = 0 #set이 내가 찾고 싶은 경계면의 번호이다\n",
    "    for w in range(ncnt):\n",
    "       if chk < len(contours[w]):\n",
    "            chk = len(contours[w])\n",
    "            set = w\n",
    "    # 찾은 contour 좌표를 contour_array에 저장한다\n",
    "    contour_array=contours[set][:,0,:]\n",
    "\n",
    "    # 폐합된(closed) 다각형(polygon) 좌표군을 생성한다.\n",
    "    polyg = np.append(contour_array, contour_array[0,:].reshape(1,2), axis=0)\n",
    "    \n",
    "    # Equivalent diameter를 구한다.\n",
    "    area = cv2.contourArea(contours[set])\n",
    "    equi_diameter = np.sqrt(4*area/np.pi)\n",
    "    \n",
    "    return contour_array, polyg, equi_diameter\n"
   ]
  },
  {
   "cell_type": "code",
   "execution_count": 4,
   "metadata": {
    "tags": []
   },
   "outputs": [],
   "source": [
    "def find_eqdpt(polyg, numOfSegments):\n",
    "\n",
    "    #Find Contour Perimeter\n",
    "    perimeter = cv2.arcLength(polyg,True)\n",
    "\n",
    "    #Find Segment length\n",
    "    SegLength = perimeter/numOfSegments\n",
    "\n",
    "    lastpt = polyg[0:1] #제일 첫 point를 last point로 설정\n",
    "    eqdpt  = polyg[0:1]\n",
    "    polyIdx = 0\n",
    "    lenToGo = SegLength\n",
    "\n",
    "    while len(eqdpt)<numOfSegments:\n",
    "        lenOnPolyline = np.linalg.norm(polyg[polyIdx+1]-lastpt)\n",
    "        if lenOnPolyline > lenToGo:\n",
    "            unitv = polyg[polyIdx+1]-lastpt\n",
    "            unitv = unitv / np.linalg.norm(unitv)       \n",
    "            lastpt = unitv*lenToGo + lastpt\n",
    "            eqdpt = np.append(eqdpt,lastpt.reshape(1,2),axis=0)\n",
    "            lenToGo = SegLength\n",
    "        else:\n",
    "            lenToGo = lenToGo - lenOnPolyline\n",
    "            polyIdx += 1\n",
    "            lastpt = polyg[polyIdx]    \n",
    "    \n",
    "    return eqdpt"
   ]
  },
  {
   "cell_type": "code",
   "execution_count": 5,
   "metadata": {
    "tags": []
   },
   "outputs": [],
   "source": [
    "def trans_eqdpt(eqdpt, polyg, contour_array):\n",
    "    # Find Centroid\n",
    "    M = cv2.moments(contour_array)\n",
    "    cX = np.int32(M[\"m10\"]/M[\"m00\"])\n",
    "    cY = np.int32(M[\"m01\"]/M[\"m00\"])\n",
    "\n",
    "    # Translate Contour points\n",
    "    centroid = np.empty(contour_array.shape)\n",
    "    centroid[:,0] = cX\n",
    "    centroid[:,1] = cY\n",
    "    contour_array = contour_array - centroid\n",
    "\n",
    "    centroid = np.empty(polyg.shape)\n",
    "    centroid[:,0] = cX\n",
    "    centroid[:,1] = cY\n",
    "    polyg = polyg - centroid\n",
    "        \n",
    "    centroid = np.empty(eqdpt.shape)\n",
    "    centroid[:,0] = cX\n",
    "    centroid[:,1] = cY\n",
    "    \n",
    "    eqdpt = eqdpt - centroid\n",
    "    \n",
    "    return eqdpt, polyg, contour_array"
   ]
  },
  {
   "cell_type": "code",
   "execution_count": 6,
   "metadata": {
    "tags": []
   },
   "outputs": [],
   "source": [
    "def find_FD(eqdpt,sig_num):\n",
    "\n",
    "    # 푸리에 변환에 사용할 절점 g의 갯수 = M\n",
    "    M = len(eqdpt)    \n",
    "    \n",
    "    #2차원 Fourier 변환을 위한 준비(복소수형태로 좌표를 변환시킴) --> fft 변환 --> fourier_result에 coef값 저장\n",
    "    eqdpt_complex = np.empty(eqdpt.shape[:-1],dtype=complex)\n",
    "    eqdpt_complex.real = eqdpt[:,0]\n",
    "    eqdpt_complex.imag = eqdpt[:,1]\n",
    "\n",
    "    fft_result = np.fft.fft(eqdpt_complex)  # np.fft.fft로 구한 coef값은 1/M되지 않았다.\n",
    "    fft_result = fft_result/M  # 1/M로 나눠주었다.\n",
    "    fftshifted = np.fft.fftshift(fft_result)  # fftshift가 zero-freq를 중앙으로 위치시킨다.\n",
    "    \n",
    "    #sig_num 가 몇개를 추출할지 결정 (pair의 갯수임)\n",
    "    if (len(fftshifted) % 2) == 0:\n",
    "        center_index = len(fftshifted)/2\n",
    "    else:\n",
    "        center_index = (len(fftshifted)+1)/2\n",
    "    start = np.int32(center_index - sig_num)\n",
    "    end   = np.int32(center_index + sig_num) +1\n",
    "\n",
    "    #print('center,start,end=',center_index,start,end)\n",
    "    \n",
    "    G = fftshifted[start:end]  #start와 end 사이의 중앙값이 가장 큰 coef를 가진다.\n",
    "    \n",
    "    # Calculate Magnitude of Fourier Descriptor Coefficients\n",
    "    G_real = G.real\n",
    "    G_imag = G.imag\n",
    "    G_mag  = np.sqrt(G_real**2+G_imag**2)\n",
    "    \n",
    "    return G_mag, G_real, G_imag, fft_result, fftshifted"
   ]
  },
  {
   "cell_type": "code",
   "execution_count": 7,
   "metadata": {
    "tags": []
   },
   "outputs": [],
   "source": [
    "def dcfft(img_nm,numOfseg,sig_num):\n",
    "\n",
    "    thresh = process_and_rotate_image(img_nm)\n",
    "    \n",
    "    #입자 이미지의 경계면 좌표를 찾는다.\n",
    "    contour_array, polyg, eqdia = find_a_contour(thresh)\n",
    "    \n",
    "    #앞서 얻은 경계면 좌표 간격은 일정하지 않다. 이를 일정한 간격이 되도록 좌표를 다시 찾는다.\n",
    "    #numOfSegments = by input param   #등간격 세그먼트의 숫자를 지정한다. 2^n 으로 지정\n",
    "    eqdpt = find_eqdpt(polyg, numOfseg)\n",
    "    \n",
    "    #좌표군들의 도심이 원점이 되도록 이동(translation)시킨다.\n",
    "    eqdpt, polyg, contour_array = trans_eqdpt(eqdpt, polyg, contour_array)\n",
    "\n",
    "    #FFT를 실시하여 Fourier Descriptor를 찾는다.\n",
    "    #sig_num = by input param         #중심을 기준으로 추출할 FD의 갯수를 정한다.\n",
    "    idx = pd.DataFrame({'idx':np.arange(-sig_num,sig_num+1)})\n",
    "    \n",
    "    a,b,c,d,e = find_FD(eqdpt,sig_num)\n",
    "    \n",
    "    df1 = pd.DataFrame({'mag':a,'real':b,'imag':c})\n",
    "    df2 = pd.DataFrame({'fft_result':d,'fftshift_result':e})\n",
    "    df3 = pd.DataFrame({'x0':eqdpt[:,0],'y0':eqdpt[:,1]})\n",
    "    \n",
    "    return df1, df2, df3, eqdia"
   ]
  },
  {
   "cell_type": "code",
   "execution_count": 8,
   "metadata": {},
   "outputs": [],
   "source": [
    "def fdrecon(N, sig_num, df):\n",
    "    \n",
    "    x1 = []\n",
    "    y1 = []\n",
    "\n",
    "    for k in np.arange(0, N, 1):\n",
    "        t = k / N\n",
    "        x = 0\n",
    "        y = 0\n",
    "\n",
    "        for m in np.arange(-sig_num, sig_num + 1):\n",
    "            phi = 2 * np.pi * m * t\n",
    "            A = df.loc[m, 'std_real']\n",
    "            B = df.loc[m, 'std_imag']\n",
    "            x += A * np.cos(phi) - B * np.sin(phi)\n",
    "            y += A * np.sin(phi) + B * np.cos(phi)\n",
    "\n",
    "        x1.append(x)\n",
    "        y1.append(y)\n",
    "\n",
    "    # Plotting the contour and filling it\n",
    "    plt.fill(x1, y1, color='black')\n",
    "\n",
    "    # Remove the axis and grid lines\n",
    "    plt.axis('equal')\n",
    "    plt.axis('off')\n",
    "    \n",
    "    plt.title(\"Standard Figure\")\n",
    "    '''file_name = \"Standard Figure.png\"\n",
    "    cwd = os.getcwd()\n",
    "    folder_path = cwd\n",
    "    save_path = os.path.join(folder_path, file_name)\n",
    "    fig = plt.gcf()\n",
    "    fig.savefig(save_path, dpi=300, bbox_inches='tight')'''\n",
    "\n",
    "    # Show the plot\n",
    "    plt.show()"
   ]
  },
  {
   "cell_type": "code",
   "execution_count": 9,
   "metadata": {
    "tags": []
   },
   "outputs": [],
   "source": [
    "numOfseg = 256   #[중요] 등간격 세그먼트의 숫자를 지정한다. 2^n 으로 지정\n",
    "sig_num = 20      #[중요] Zero-Freq 중심을 기준으로 아래 위로 추출할 FD의 갯수를 정한다. (Pair의 숫자임)"
   ]
  },
  {
   "cell_type": "code",
   "execution_count": 10,
   "metadata": {},
   "outputs": [
    {
     "name": "stderr",
     "output_type": "stream",
     "text": [
      "100%|██████████| 8/8 [00:00<00:00, 32.78it/s]\n"
     ]
    }
   ],
   "source": [
    "'''os.chdir('C:\\\\Users\\\\cysdh\\\\-----Fourier Desciptor-----\\\\Source Image\\\\SRC-J Jumunjin\\\\0.600-1.000mm')'''\n",
    "'''os.chdir('C:\\\\Users\\\\cysdh\\\\-----Fourier Desciptor-----\\\\2024-1\\\\Standard Image')'''\n",
    "\n",
    "mylist = [f for f in sorted(glob.glob(\"*.png\"))]  #읽어들일 파일의 확장자 확인할것\n",
    "\n",
    "mag = pd.DataFrame({'idx':np.arange(-sig_num,sig_num+1)})\n",
    "real = mag\n",
    "imag = mag\n",
    "\n",
    "x0 = pd.DataFrame()\n",
    "y0 = pd.DataFrame()\n",
    "eqdia = pd.DataFrame()\n",
    "\n",
    "for img_nm in tqdm(mylist[:]):\n",
    "    title = img_nm[:-4]\n",
    "    df1,df2,df3,eqd = dcfft(title,numOfseg,sig_num)\n",
    "    mag  = pd.concat([mag, df1['mag']],axis=1)\n",
    "    real = pd.concat([real,df1['real']],axis=1)\n",
    "    imag = pd.concat([imag,df1['imag']],axis=1)\n",
    "    x0 = pd.concat([x0,df3['x0']],axis=1)\n",
    "    y0 = pd.concat([y0,df3['y0']],axis=1)\n",
    "    d = pd.DataFrame([eqd])\n",
    "    eqdia = pd.concat([eqdia,d],axis=1)\n",
    "    \n",
    "mag = mag.set_index('idx')    \n",
    "real = real.set_index('idx')\n",
    "imag = imag.set_index('idx')\n",
    "\n",
    "mag.columns = mylist\n",
    "real.columns = mylist\n",
    "imag.columns = mylist\n",
    "x0.columns = mylist\n",
    "y0.columns = mylist\n",
    "eqdia.columns = mylist"
   ]
  },
  {
   "cell_type": "code",
   "execution_count": 11,
   "metadata": {
    "tags": []
   },
   "outputs": [],
   "source": [
    "def std_image(mylist):\n",
    "    \n",
    "    std_imag = imag.mean(axis='columns')\n",
    "    std_real = real.mean(axis='columns')\n",
    "    \n",
    "    df = pd.DataFrame({'std_imag':std_imag,'std_real':std_real})\n",
    "    \n",
    "    return df"
   ]
  },
  {
   "cell_type": "code",
   "execution_count": 12,
   "metadata": {
    "tags": []
   },
   "outputs": [],
   "source": [
    "def mean_std(df,mag):\n",
    "    \n",
    "    df1 = (df.std_imag**2 + df.std_real**2)**0.5\n",
    "    mags = mag.stack()\n",
    "    result1 = df1\n",
    "    result2 = df1\n",
    "    \n",
    "    for i in mag.index:\n",
    "        result1.loc[i] = mags[i].mean()\n",
    "    print(result1)\n",
    "    \n",
    "    for i in mag.index:\n",
    "        result2.loc[i] = mags[i].std(ddof=0)\n",
    "    print(result2)"
   ]
  },
  {
   "cell_type": "code",
   "execution_count": 13,
   "metadata": {
    "tags": []
   },
   "outputs": [
    {
     "data": {
      "image/png": "[encoded data removed]",
      "text/plain": [
       "<Figure size 640x480 with 1 Axes>"
      ]
     },
     "metadata": {},
     "output_type": "display_data"
    }
   ],
   "source": [
    "cwd = os.getcwd()\n",
    "parent_folder_name = os.path.basename(os.path.dirname(cwd))\n",
    "current_folder_name = os.path.basename(cwd)\n",
    "\n",
    "\n",
    "os.chdir('C:\\\\Users\\\\cysdh\\\\-----Fourier Desciptor-----\\\\2024-1\\\\Standard Image')\n",
    "\n",
    "cwd = os.getcwd()\n",
    "folder_path = os.path.join(cwd, \"Pictures\")\n",
    "os.makedirs(folder_path, exist_ok=True)\n",
    "\n",
    "df1 = std_image(mylist)\n",
    "dfs = (df1.std_imag**2 + df1.std_real**2)**0.5\n",
    "fdrecon(numOfseg, sig_num, df1)"
   ]
  },
  {
   "cell_type": "code",
   "execution_count": 14,
   "metadata": {
    "tags": []
   },
   "outputs": [
    {
     "data": {
      "text/plain": [
       "'result1 = dfs.copy()\\nresult2 = dfs.copy()\\n\\nfor i in mag.index:\\n        result1.loc[i] = mag.loc[i].mean()\\nplt.grid()\\nplt.plot(result1)\\n\\nplt.title(f\"{parent_folder_name}_{current_folder_name}_mean\")\\n\\nfile_name = f\"{parent_folder_name}_{current_folder_name}_mean.png\"\\nsave_path = os.path.join(folder_path, file_name)\\nfig = plt.gcf()\\nfig.savefig(save_path, dpi=300, bbox_inches=\\'tight\\')\\n\\nplt.show()\\n    \\nfor i in mag.index:\\n        result2.loc[i] = mag.loc[i].std(ddof=0)        \\nplt.grid()\\nplt.plot(result2)\\n\\nplt.title(f\"{parent_folder_name}_{current_folder_name}_std_no_standardization\")\\n\\nfile_name = f\"{parent_folder_name}_{current_folder_name}_std_no_standardization.png\"\\nsave_path = os.path.join(folder_path, file_name)\\nfig = plt.gcf()\\nfig.savefig(save_path, dpi=300, bbox_inches=\\'tight\\')\\n\\nplt.show()'"
      ]
     },
     "execution_count": 14,
     "metadata": {},
     "output_type": "execute_result"
    }
   ],
   "source": [
    "'''result1 = dfs.copy()\n",
    "result2 = dfs.copy()\n",
    "\n",
    "for i in mag.index:\n",
    "        result1.loc[i] = mag.loc[i].mean()\n",
    "plt.grid()\n",
    "plt.plot(result1)\n",
    "\n",
    "plt.title(f\"{parent_folder_name}_{current_folder_name}_mean\")\n",
    "\n",
    "file_name = f\"{parent_folder_name}_{current_folder_name}_mean.png\"\n",
    "save_path = os.path.join(folder_path, file_name)\n",
    "fig = plt.gcf()\n",
    "fig.savefig(save_path, dpi=300, bbox_inches='tight')\n",
    "\n",
    "plt.show()\n",
    "    \n",
    "for i in mag.index:\n",
    "        result2.loc[i] = mag.loc[i].std(ddof=0)        \n",
    "plt.grid()\n",
    "plt.plot(result2)\n",
    "\n",
    "plt.title(f\"{parent_folder_name}_{current_folder_name}_std_no_standardization\")\n",
    "\n",
    "file_name = f\"{parent_folder_name}_{current_folder_name}_std_no_standardization.png\"\n",
    "save_path = os.path.join(folder_path, file_name)\n",
    "fig = plt.gcf()\n",
    "fig.savefig(save_path, dpi=300, bbox_inches='tight')\n",
    "\n",
    "plt.show()'''"
   ]
  },
  {
   "cell_type": "code",
   "execution_count": 15,
   "metadata": {
    "tags": []
   },
   "outputs": [
    {
     "data": {
      "text/plain": [
       "'result3 = dfs.copy()\\nmags = mag.stack()\\n\\nfor i in mag.index:\\n    mags[i] = mags[i] / mag.loc[i].sum()\\n    \\nfor i in mag.index:\\n    result3.loc[i] = mags[i].std()\\n\\nplt.grid()\\nplt.plot(result3)\\nplt.title(f\"{parent_folder_name}_{current_folder_name}_Normalized_as_a_whole\")\\n\\nfile_name = f\"{parent_folder_name}_{current_folder_name}_Normalized_as_a_whole.png\"\\nsave_path = os.path.join(folder_path, file_name)\\nfig = plt.gcf()\\nfig.savefig(save_path, dpi=300, bbox_inches=\\'tight\\')\\n\\nplt.show()\\nprint(result3)'"
      ]
     },
     "execution_count": 15,
     "metadata": {},
     "output_type": "execute_result"
    }
   ],
   "source": [
    "'''result3 = dfs.copy()\n",
    "mags = mag.stack()\n",
    "\n",
    "for i in mag.index:\n",
    "    mags[i] = mags[i] / mag.loc[i].sum()\n",
    "    \n",
    "for i in mag.index:\n",
    "    result3.loc[i] = mags[i].std()\n",
    "\n",
    "plt.grid()\n",
    "plt.plot(result3)\n",
    "plt.title(f\"{parent_folder_name}_{current_folder_name}_Normalized_as_a_whole\")\n",
    "\n",
    "file_name = f\"{parent_folder_name}_{current_folder_name}_Normalized_as_a_whole.png\"\n",
    "save_path = os.path.join(folder_path, file_name)\n",
    "fig = plt.gcf()\n",
    "fig.savefig(save_path, dpi=300, bbox_inches='tight')\n",
    "\n",
    "plt.show()\n",
    "print(result3)'''"
   ]
  },
  {
   "cell_type": "code",
   "execution_count": 16,
   "metadata": {
    "tags": []
   },
   "outputs": [],
   "source": [
    "a = mag.copy()\n",
    "for i in range(len(a.columns)):\n",
    "    a[a.columns[i]] /= a[a.columns[i]].sum()"
   ]
  },
  {
   "cell_type": "code",
   "execution_count": 17,
   "metadata": {
    "tags": []
   },
   "outputs": [
    {
     "data": {
      "image/png": "[encoded data removed]",
      "text/plain": [
       "<Figure size 640x480 with 1 Axes>"
      ]
     },
     "metadata": {},
     "output_type": "display_data"
    },
    {
     "name": "stdout",
     "output_type": "stream",
     "text": [
      "0.1270183994234969\n"
     ]
    }
   ],
   "source": [
    "result4 = dfs.copy()\n",
    "magss = a.stack()\n",
    "\n",
    "for i in mag.index:\n",
    "    magss[i] = magss[i] / a.loc[i].sum()\n",
    "    \n",
    "for i in mag.index:\n",
    "    result4.loc[i] = magss[i].std()\n",
    "\n",
    "plt.grid()\n",
    "plt.plot(result4)\n",
    "\n",
    "plt.title(f\"{parent_folder_name}_{current_folder_name}_Normalized_by_itself\")\n",
    "\n",
    "file_name = f\"{parent_folder_name}_{current_folder_name}_Normalized_by_itself.png\"\n",
    "save_path = os.path.join(folder_path, file_name)\n",
    "fig = plt.gcf()\n",
    "fig.savefig(save_path, dpi=300, bbox_inches='tight')\n",
    "\n",
    "plt.show()\n",
    "print(result4.mean())"
   ]
  },
  {
   "cell_type": "code",
   "execution_count": 18,
   "metadata": {
    "tags": []
   },
   "outputs": [],
   "source": [
    "def calculate_dispersion(mag):\n",
    "    # Normalize FDs by each image\n",
    "    # Assuming 'mag' already has 'idx' as its index\n",
    "    fd_data_normalized = mag.div(mag.sum())\n",
    "\n",
    "    # Calculate the standard image's FD profile\n",
    "    standard_image_fd = fd_data_normalized.mean(axis=1)\n",
    "\n",
    "    # Calculate dispersion for each image\n",
    "    dispersion = {image: euclidean(fd_data_normalized[image], standard_image_fd) for image in fd_data_normalized.columns}\n",
    "\n",
    "    # Calculate overall dispersion metrics\n",
    "    dispersion_values = list(dispersion.values())\n",
    "    average_dispersion = sum(dispersion_values) / len(dispersion_values)\n",
    "    std_dev_dispersion = (sum([(x - average_dispersion) ** 2 for x in dispersion_values]) / (len(dispersion_values))) ** 0.5\n",
    "    max_dispersion = max(dispersion_values)\n",
    "    min_dispersion = min(dispersion_values)\n",
    "    range_dispersion = max_dispersion - min_dispersion\n",
    "\n",
    "    return dispersion, average_dispersion, std_dev_dispersion, max_dispersion, min_dispersion, range_dispersion"
   ]
  },
  {
   "cell_type": "code",
   "execution_count": 19,
   "metadata": {
    "tags": []
   },
   "outputs": [
    {
     "name": "stdout",
     "output_type": "stream",
     "text": [
      "Average Dispersion: 0.2315911278123924\n",
      "Standard Deviation of Dispersion: 0.08682405063023699\n",
      "Maximum Dispersion: 0.32597998832400393\n",
      "Minimum Dispersion: 0.12904976448618724\n",
      "Range of Dispersion: 0.1969302238378167\n"
     ]
    }
   ],
   "source": [
    "dispersion, avg_disp, std_dev, max_disp, min_disp, range_disp = calculate_dispersion(mag)\n",
    "\n",
    "# Display the results\n",
    "print(\"Average Dispersion:\", avg_disp)\n",
    "print(\"Standard Deviation of Dispersion:\", std_dev)\n",
    "print(\"Maximum Dispersion:\", max_disp)\n",
    "print(\"Minimum Dispersion:\", min_disp)\n",
    "print(\"Range of Dispersion:\", range_disp)"
   ]
  },
  {
   "cell_type": "code",
   "execution_count": null,
   "metadata": {},
   "outputs": [],
   "source": []
  }
 ],
 "metadata": {
  "kernelspec": {
   "display_name": "Python 3 (ipykernel)",
   "language": "python",
   "name": "python3"
  },
  "language_info": {
   "codemirror_mode": {
    "name": "ipython",
    "version": 3
   },
   "file_extension": ".py",
   "mimetype": "text/x-python",
   "name": "python",
   "nbconvert_exporter": "python",
   "pygments_lexer": "ipython3",
   "version": "3.10.9"
  },
  "toc-autonumbering": false,
  "toc-showcode": false,
  "toc-showmarkdowntxt": false
 },
 "nbformat": 4,
 "nbformat_minor": 4
}
