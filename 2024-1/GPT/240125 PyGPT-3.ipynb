{
 "cells": [
  {
   "cell_type": "code",
   "execution_count": 7,
   "id": "c4aa21b5-3192-4431-8878-9e0cdae488ca",
   "metadata": {
    "tags": []
   },
   "outputs": [],
   "source": [
    "import cv2\n",
    "import numpy as np\n",
    "import glob\n",
    "from scipy.ndimage import measurements, interpolation"
   ]
  },
  {
   "cell_type": "code",
   "execution_count": 16,
   "id": "9568d806-0c20-4f7f-92ae-c749daf7d607",
   "metadata": {
    "tags": []
   },
   "outputs": [],
   "source": [
    "def find_principal_axis(image):\n",
    "    \"\"\"Find the centroid and principal axis of the particle using its contour.\"\"\"\n",
    "    contours, _ = cv2.findContours(image, cv2.RETR_EXTERNAL, cv2.CHAIN_APPROX_SIMPLE)\n",
    "    if len(contours) == 0:\n",
    "        raise ValueError(\"No contours found in the image.\")\n",
    "\n",
    "    cnt = max(contours, key=cv2.contourArea)\n",
    "    M = cv2.moments(cnt)\n",
    "    centroid = (M[\"m10\"] / M[\"m00\"], M[\"m01\"] / M[\"m00\"])\n",
    "    \n",
    "    u20 = M[\"mu20\"] / M[\"m00\"]\n",
    "    u02 = M[\"mu02\"] / M[\"m00\"]\n",
    "    u11 = M[\"mu11\"] / M[\"m00\"]\n",
    "    angle = 0.5 * np.arctan2(2 * u11, (u20 - u02))\n",
    "    \n",
    "    return centroid, angle\n",
    "\n",
    "def rotate_image(image, angle, center):\n",
    "    \"\"\"Rotate the image around a center by a given angle.\"\"\"\n",
    "    rot_mat = cv2.getRotationMatrix2D(center, angle, 1.0)\n",
    "    rotated = cv2.warpAffine(image, rot_mat, image.shape[1::-1], flags=cv2.INTER_LINEAR, borderValue=(255,255,255))\n",
    "    return rotated\n",
    "\n",
    "def resize_and_position(image, centroid, angle, target_points, image_size=(1000, 1000)):\n",
    "    \"\"\"Resize and position the image so that the principal axis endpoints match target_points.\"\"\"\n",
    "    y, x = np.nonzero(image)\n",
    "    x_centered, y_centered = x - centroid[0], y - centroid[1]\n",
    "    theta = -angle\n",
    "    x_rotated = x_centered * np.cos(theta) - y_centered * np.sin(theta)\n",
    "    min_x, max_x = x_rotated.min(), x_rotated.max()\n",
    "    scale_factor = (target_points[1][0] - target_points[0][0]) / (max_x - min_x)\n",
    "\n",
    "    image_resized = cv2.resize(image, (0, 0), fx=scale_factor, fy=scale_factor)\n",
    "\n",
    "    new_centroid = (centroid[0] * scale_factor, centroid[1] * scale_factor)\n",
    "    \n",
    "    translation_x = target_points[0][0] - new_centroid[0] + (image_size[0] - image_resized.shape[1]) / 2\n",
    "    translation_y = target_points[0][1] - new_centroid[1] + (image_size[1] - image_resized.shape[0]) / 2\n",
    "\n",
    "    M = np.float32([[1, 0, translation_x], [0, 1, translation_y]])\n",
    "    img_translated = cv2.warpAffine(image_resized, M, image_size)\n",
    "\n",
    "    return img_translated\n",
    "\n",
    "def reverse_if_necessary(image, centroid, angle):\n",
    "    \"\"\"Reverse the image if the length under the principal axis is longer.\"\"\"\n",
    "    rows, cols = image.shape\n",
    "    x_centroid, y_centroid = int(centroid[0]), int(centroid[1])\n",
    "\n",
    "    mask = np.zeros_like(image, dtype=np.uint8)\n",
    "    cv2.line(mask, (0, y_centroid), (cols, y_centroid), 1, thickness=1)\n",
    "    upper_mask = np.triu(mask, 1)\n",
    "    lower_mask = np.tril(mask, -1)\n",
    "\n",
    "    upper_area = np.sum(image[upper_mask == 1])\n",
    "    lower_area = np.sum(image[lower_mask == 1])\n",
    "\n",
    "    if lower_area > upper_area:\n",
    "        image = np.flipud(image)\n",
    "\n",
    "    return image"
   ]
  },
  {
   "cell_type": "code",
   "execution_count": 18,
   "id": "65fbb0e1-fdaf-41a2-a9a5-3d82a594069b",
   "metadata": {
    "tags": []
   },
   "outputs": [],
   "source": [
    "for filepath in glob.glob('*.png'):\n",
    "    image = cv2.imread(filepath, cv2.IMREAD_GRAYSCALE)\n",
    "    centroid, angle = find_principal_axis(image)\n",
    "    rotated = rotate_image(image, np.degrees(angle), centroid)\n",
    "    resized_and_positioned = resize_and_position(rotated, centroid, angle, [(200, 500), (800, 500)])\n",
    "    final_image = reverse_if_necessary(resized_and_positioned, centroid, angle)\n",
    "\n",
    "    # Save or display the final_image\n",
    "    cv2.imwrite('processed_' + filepath, final_image)"
   ]
  },
  {
   "cell_type": "code",
   "execution_count": null,
   "id": "084d7d48-dcc1-42dc-ba1c-fa7f0a959d3f",
   "metadata": {},
   "outputs": [],
   "source": []
  }
 ],
 "metadata": {
  "kernelspec": {
   "display_name": "Python 3 (ipykernel)",
   "language": "python",
   "name": "python3"
  },
  "language_info": {
   "codemirror_mode": {
    "name": "ipython",
    "version": 3
   },
   "file_extension": ".py",
   "mimetype": "text/x-python",
   "name": "python",
   "nbconvert_exporter": "python",
   "pygments_lexer": "ipython3",
   "version": "3.10.9"
  }
 },
 "nbformat": 4,
 "nbformat_minor": 5
}
