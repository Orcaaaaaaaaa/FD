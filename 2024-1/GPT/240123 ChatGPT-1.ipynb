{
 "cells": [
  {
   "cell_type": "code",
   "execution_count": 1,
   "id": "552cba72-98dd-4a87-bd4f-c2c08d5802ca",
   "metadata": {
    "tags": []
   },
   "outputs": [],
   "source": [
    "import cv2\n",
    "import numpy as np\n",
    "import pandas as pd\n",
    "import glob\n",
    "import matplotlib.pyplot as plt\n",
    "from scipy.ndimage import rotate, shift"
   ]
  },
  {
   "cell_type": "code",
   "execution_count": 2,
   "id": "3bb2414f-20db-4a97-a9cb-efb66b58087b",
   "metadata": {
    "tags": []
   },
   "outputs": [],
   "source": [
    "def process_image(file_path):\n",
    "    # Load the image in grayscale\n",
    "    image = cv2.imread(file_path, 0)\n",
    "    # Threshold the image to get a binary image\n",
    "    _, binary_image = cv2.threshold(image, 1, 255, cv2.THRESH_BINARY)\n",
    "    # Find contours\n",
    "    contours, _ = cv2.findContours(binary_image, cv2.RETR_EXTERNAL, cv2.CHAIN_APPROX_SIMPLE)\n",
    "    # Get the largest contour which should be the shape\n",
    "    contour = max(contours, key=cv2.contourArea)\n",
    "    return contour, binary_image"
   ]
  },
  {
   "cell_type": "code",
   "execution_count": 3,
   "id": "aac8c23b-aaf0-4813-9b78-7e0f3739b85f",
   "metadata": {
    "tags": []
   },
   "outputs": [
    {
     "data": {
      "image/png": "[encoded data removed]",
      "text/plain": [
       "<Figure size 640x480 with 1 Axes>"
      ]
     },
     "metadata": {},
     "output_type": "display_data"
    }
   ],
   "source": [
    "# Paths of the images\n",
    "file_paths = glob.glob('*.png')\n",
    "\n",
    "# Process all images and find contours\n",
    "processed_images = [process_image(file_path) for file_path in file_paths]\n",
    "\n",
    "# Calculate the moments to find the centroid\n",
    "moments = [cv2.moments(contour) for contour, _ in processed_images]\n",
    "\n",
    "# Normalize the shapes based on centroid and area\n",
    "normalized_shapes = []\n",
    "for (contour, binary_image), moment in zip(processed_images, moments):\n",
    "    if moment['m00'] == 0:\n",
    "        continue  # Skip if the area is zero\n",
    "    cx = int(moment['m10'] / moment['m00'])\n",
    "    cy = int(moment['m01'] / moment['m00'])\n",
    "\n",
    "    # Shift the image to move the centroid to the center\n",
    "    rows, cols = binary_image.shape\n",
    "    shift_x = cols//2 - cx\n",
    "    shift_y = rows//2 - cy\n",
    "    shifted_image = shift(binary_image, shift=[shift_y, shift_x])\n",
    "\n",
    "    # Calculate the angle of the shape\n",
    "    angle = cv2.minAreaRect(contour)[-1]\n",
    "    # Normalize the rotation\n",
    "    if angle < -45:\n",
    "        angle = -(90 + angle)\n",
    "    else:\n",
    "        angle = -angle\n",
    "\n",
    "    # Rotate the image\n",
    "    rotated = rotate(shifted_image, angle, reshape=False, prefilter=False)\n",
    "\n",
    "    # Shift back the image to its original position\n",
    "    rotated_back = shift(rotated, shift=[-shift_y, -shift_x])\n",
    "    normalized_shapes.append(rotated_back)\n",
    "\n",
    "# Combine all the shapes to find the common shape\n",
    "# Since we're working with binary images, a direct mean might not be meaningful.\n",
    "# You might want to consider a different approach for combining shapes.\n",
    "\n",
    "# Show the resulting common shape\n",
    "# Adjust this part based on how you decide to combine the shapes.\n",
    "plt.imshow(normalized_shapes[0], cmap='gray')  # Example to show the first normalized shape\n",
    "plt.axis('off')\n",
    "plt.show()"
   ]
  },
  {
   "cell_type": "code",
   "execution_count": null,
   "id": "1eac9c35-b740-4e66-b4da-f43e098c4cd4",
   "metadata": {},
   "outputs": [],
   "source": []
  }
 ],
 "metadata": {
  "kernelspec": {
   "display_name": "Python 3 (ipykernel)",
   "language": "python",
   "name": "python3"
  },
  "language_info": {
   "codemirror_mode": {
    "name": "ipython",
    "version": 3
   },
   "file_extension": ".py",
   "mimetype": "text/x-python",
   "name": "python",
   "nbconvert_exporter": "python",
   "pygments_lexer": "ipython3",
   "version": "3.10.9"
  }
 },
 "nbformat": 4,
 "nbformat_minor": 5
}
