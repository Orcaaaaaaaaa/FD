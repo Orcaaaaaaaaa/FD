{
 "cells": [
  {
   "cell_type": "code",
   "execution_count": 1,
   "id": "b31b8e29-b39b-4047-80e0-549a83828aca",
   "metadata": {
    "tags": []
   },
   "outputs": [],
   "source": [
    "import cv2\n",
    "import numpy as np\n",
    "import glob\n",
    "import math"
   ]
  },
  {
   "cell_type": "code",
   "execution_count": 2,
   "id": "ca94561c-62c4-4fdb-abb4-03ab61896bae",
   "metadata": {
    "tags": []
   },
   "outputs": [],
   "source": [
    "def find_centroid_and_angle(binary_image):\n",
    "    moments = cv2.moments(binary_image)\n",
    "    centroid_x = int(moments['m10'] / moments['m00'])\n",
    "    centroid_y = int(moments['m01'] / moments['m00'])\n",
    "    \n",
    "    # Calculating orientation (angle of principal axis)\n",
    "    angle = 0.5 * math.atan2(2 * moments['mu11'], (moments['mu20'] - moments['mu02']))\n",
    "    angle_degrees = math.degrees(angle)\n",
    "    return (centroid_x, centroid_y), angle_degrees\n",
    "\n",
    "def crop_to_bounding_box(image):\n",
    "    contours, _ = cv2.findContours(image, cv2.RETR_EXTERNAL, cv2.CHAIN_APPROX_SIMPLE)\n",
    "    if contours:\n",
    "        cnt = max(contours, key=cv2.contourArea)\n",
    "        x, y, w, h = cv2.boundingRect(cnt)\n",
    "        return image[y:y+h, x:x+w]\n",
    "    return image\n",
    "\n",
    "def rotate_image(image, angle, centroid):\n",
    "    (h, w) = image.shape[:2]\n",
    "    M = cv2.getRotationMatrix2D(centroid, angle, 1.0)\n",
    "    rotated = cv2.warpAffine(image, M, (w, h))\n",
    "    return rotated\n",
    "\n",
    "def reverse_image_if_needed(image, centroid, angle):\n",
    "    _, width = image.shape\n",
    "    line_end_x = int(centroid[0] + width * math.cos(math.radians(angle + 90)))\n",
    "    line_end_y = int(centroid[1] + width * math.sin(math.radians(angle + 90)))\n",
    "\n",
    "    # Check lengths above and below the principal axis\n",
    "    length_above = centroid[1]\n",
    "    length_below = image.shape[0] - centroid[1]\n",
    "\n",
    "    if length_below > length_above:\n",
    "        return cv2.flip(image, 1) # flip horizontally\n",
    "    return image\n",
    "\n",
    "def process_image(file_path):\n",
    "    image = cv2.imread(file_path, cv2.IMREAD_GRAYSCALE)\n",
    "    _, binary_image = cv2.threshold(image, 1, 255, cv2.THRESH_BINARY)\n",
    "\n",
    "    cropped_image = crop_to_bounding_box(binary_image)\n",
    "    centroid, angle = find_centroid_and_angle(cropped_image)\n",
    "    rotated = rotate_image(cropped_image, -angle, centroid)\n",
    "    final_image = reverse_image_if_needed(rotated, centroid, angle)\n",
    "\n",
    "    return final_image"
   ]
  },
  {
   "cell_type": "code",
   "execution_count": 3,
   "id": "13bc06f1-ba7e-4b29-8ff5-6fc146229e76",
   "metadata": {
    "tags": []
   },
   "outputs": [],
   "source": [
    "for file_path in glob.glob('*.png'):\n",
    "    processed_image = process_image(file_path)\n",
    "    cv2.imshow('Processed Image', processed_image)\n",
    "    cv2.waitKey(0) # Wait for a key press to close the image window\n",
    "    cv2.destroyAllWindows()"
   ]
  }
 ],
 "metadata": {
  "kernelspec": {
   "display_name": "Python 3 (ipykernel)",
   "language": "python",
   "name": "python3"
  },
  "language_info": {
   "codemirror_mode": {
    "name": "ipython",
    "version": 3
   },
   "file_extension": ".py",
   "mimetype": "text/x-python",
   "name": "python",
   "nbconvert_exporter": "python",
   "pygments_lexer": "ipython3",
   "version": "3.10.9"
  }
 },
 "nbformat": 4,
 "nbformat_minor": 5
}
