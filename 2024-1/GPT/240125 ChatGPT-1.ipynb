{
 "cells": [
  {
   "cell_type": "code",
   "execution_count": 1,
   "id": "da6a5b27-d780-4a9c-9d0c-b2871cf7f06c",
   "metadata": {},
   "outputs": [],
   "source": [
    "import glob\n",
    "import cv2\n",
    "import numpy as np"
   ]
  },
  {
   "cell_type": "code",
   "execution_count": 10,
   "id": "4a4655c5-bdb0-4e96-aa0f-5c9c814c0775",
   "metadata": {},
   "outputs": [],
   "source": [
    "def load_images():\n",
    "    filepaths = glob.glob('*.png')\n",
    "    return [cv2.imread(filepath, cv2.IMREAD_GRAYSCALE) for filepath in filepaths]\n",
    "\n",
    "def find_principal_axis(image):\n",
    "    _, thresh = cv2.threshold(image, 127, 255, cv2.THRESH_BINARY_INV)\n",
    "    moments = cv2.moments(thresh)\n",
    "    centroid = (int(moments['m10']/moments['m00']), int(moments['m01']/moments['m00']))\n",
    "\n",
    "    u20 = moments['mu20'] / moments['m00']\n",
    "    u02 = moments['mu02'] / moments['m00']\n",
    "    u11 = moments['mu11'] / moments['m00']\n",
    "\n",
    "    angle = 0.5 * np.arctan2(2 * u11, (u20 - u02))\n",
    "    return centroid, angle\n",
    "\n",
    "def rotate_image(image, centroid, angle):\n",
    "    height, width = image.shape\n",
    "    rotation_matrix = cv2.getRotationMatrix2D(centroid, angle * 180 / np.pi, 1)\n",
    "    return cv2.warpAffine(image, rotation_matrix, (width, height))\n",
    "\n",
    "def conditional_reverse(image, centroid, angle):\n",
    "    height, width = image.shape\n",
    "    perpendicular_angle = angle + np.pi / 2\n",
    "    line_end = (int(centroid[0] + 1000 * np.cos(perpendicular_angle)),\n",
    "                int(centroid[1] + 1000 * np.sin(perpendicular_angle)))\n",
    "\n",
    "    if line_end[1] > height / 2:\n",
    "        return cv2.flip(image, 1)  # Horizontal flip\n",
    "    return image\n",
    "\n",
    "def process_images():\n",
    "    images = load_images()\n",
    "    for image in images:\n",
    "        centroid, angle = find_principal_axis(image)\n",
    "        image = rotate_image(image, centroid, angle)\n",
    "        image = conditional_reverse(image, centroid, angle)\n",
    "        cv2.imshow('Processed Image', image)\n",
    "        cv2.waitKey(0)\n",
    "\n",
    "    cv2.destroyAllWindows()"
   ]
  },
  {
   "cell_type": "code",
   "execution_count": 12,
   "id": "e84b8a1f-ba9b-4e1b-a4b4-2bc40cfdd0ee",
   "metadata": {
    "tags": []
   },
   "outputs": [],
   "source": [
    "process_images()"
   ]
  },
  {
   "cell_type": "code",
   "execution_count": null,
   "id": "ac304195-b862-4a82-8e83-d107acc46171",
   "metadata": {},
   "outputs": [],
   "source": []
  }
 ],
 "metadata": {
  "kernelspec": {
   "display_name": "Python 3 (ipykernel)",
   "language": "python",
   "name": "python3"
  },
  "language_info": {
   "codemirror_mode": {
    "name": "ipython",
    "version": 3
   },
   "file_extension": ".py",
   "mimetype": "text/x-python",
   "name": "python",
   "nbconvert_exporter": "python",
   "pygments_lexer": "ipython3",
   "version": "3.10.9"
  }
 },
 "nbformat": 4,
 "nbformat_minor": 5
}
