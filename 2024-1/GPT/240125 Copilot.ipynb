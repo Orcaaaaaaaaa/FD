{
 "cells": [
  {
   "cell_type": "code",
   "execution_count": 1,
   "id": "15ef236f-c8e7-46ef-aa3f-82922ad21602",
   "metadata": {},
   "outputs": [],
   "source": [
    "import cv2\n",
    "import numpy as np\n",
    "import glob"
   ]
  },
  {
   "cell_type": "code",
   "execution_count": 2,
   "id": "6594318d-62c2-4adb-a35b-ca720d4a68b9",
   "metadata": {},
   "outputs": [],
   "source": [
    "def rotate_image(image):\n",
    "    # Step 1: Find the centroid of the particle\n",
    "    M = cv2.moments(image)\n",
    "    cx = int(M['m10'] / M['m00'])\n",
    "    cy = int(M['m01'] / M['m00'])\n",
    "\n",
    "    # Step 2: Find the principal axis of the particle\n",
    "    _, _, angle = cv2.fitEllipse(np.argwhere(image == 0))\n",
    "    if angle > 90:\n",
    "        angle -= 180\n",
    "    angle = -angle\n",
    "\n",
    "    # Step 3: Rotate the image to align the principal axis horizontally\n",
    "    rows, cols = image.shape\n",
    "    M = cv2.getRotationMatrix2D((cx, cy), angle, 1)\n",
    "    rotated = cv2.warpAffine(image, M, (cols, rows))\n",
    "\n",
    "    # Step 4: Reverse the image if the length under the principal axis is longer\n",
    "    _, _, w, h = cv2.boundingRect(np.argwhere(rotated == 0))\n",
    "    if h > w:\n",
    "        rotated = cv2.rotate(rotated, cv2.ROTATE_180)\n",
    "\n",
    "    return rotated"
   ]
  },
  {
   "cell_type": "code",
   "execution_count": 3,
   "id": "be46750f-e68f-41c0-82a5-0e2f13517bb6",
   "metadata": {
    "tags": []
   },
   "outputs": [],
   "source": [
    "for filename in glob.glob('*.png'):\n",
    "    image = cv2.imread(filename, cv2.IMREAD_GRAYSCALE)\n",
    "    _, binary = cv2.threshold(image, 127, 255, cv2.THRESH_BINARY)\n",
    "    rotated = rotate_image(binary)\n",
    "    cv2.imwrite(f'rotated_{filename}', rotated)"
   ]
  }
 ],
 "metadata": {
  "kernelspec": {
   "display_name": "Python 3 (ipykernel)",
   "language": "python",
   "name": "python3"
  },
  "language_info": {
   "codemirror_mode": {
    "name": "ipython",
    "version": 3
   },
   "file_extension": ".py",
   "mimetype": "text/x-python",
   "name": "python",
   "nbconvert_exporter": "python",
   "pygments_lexer": "ipython3",
   "version": "3.10.9"
  }
 },
 "nbformat": 4,
 "nbformat_minor": 5
}
