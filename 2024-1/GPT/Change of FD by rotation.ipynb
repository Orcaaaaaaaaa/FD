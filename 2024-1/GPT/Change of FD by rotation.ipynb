{
 "cells": [
  {
   "cell_type": "code",
   "execution_count": 1,
   "metadata": {
    "tags": []
   },
   "outputs": [],
   "source": [
    "%matplotlib inline\n",
    "\n",
    "import cv2\n",
    "import numpy as np\n",
    "import scipy\n",
    "from scipy.spatial.distance import euclidean\n",
    "import os\n",
    "import pandas as pd\n",
    "import matplotlib.pyplot as plt\n",
    "from matplotlib.pyplot import cm\n",
    "import glob\n",
    "from tqdm import tqdm"
   ]
  },
  {
   "cell_type": "code",
   "execution_count": 2,
   "metadata": {
    "tags": []
   },
   "outputs": [],
   "source": [
    "def fcall(img_nm):\n",
    "    \n",
    "    #대상 이미지 파일의 확장자를 확인할 것.\n",
    "    filename = img_nm+'.png'\n",
    "\n",
    "    # Load the image and convert it to grayscale:\n",
    "    image = cv2.imread(filename)\n",
    "    gray_image = cv2.cvtColor(image, cv2.COLOR_BGR2GRAY)\n",
    "    \n",
    "    #cv2.THRESH_BINARY 인지 cv2.THRESH_BINARY_INV 꼭 확인할것!\n",
    "    ret, thresh = cv2.threshold(gray_image, 50, 255, cv2.THRESH_BINARY_INV)\n",
    "    \n",
    "    return thresh"
   ]
  },
  {
   "cell_type": "code",
   "execution_count": 3,
   "metadata": {
    "tags": []
   },
   "outputs": [],
   "source": [
    "def find_a_contour(thresh):\n",
    "    contours, hierarchy = cv2.findContours(\n",
    "        thresh, \n",
    "        cv2.RETR_EXTERNAL, \n",
    "        cv2.CHAIN_APPROX_NONE)\n",
    "    ncnt = len(contours[:]) #ncnt = number of contour lines\n",
    "    chk = 0 #chk은 w번째 경계면을 이루는 좌표의 갯수이다\n",
    "    set = 0 #set이 내가 찾고 싶은 경계면의 번호이다\n",
    "    for w in range(ncnt):\n",
    "       if chk < len(contours[w]):\n",
    "            chk = len(contours[w])\n",
    "            set = w\n",
    "    # 찾은 contour 좌표를 contour_array에 저장한다\n",
    "    contour_array=contours[set][:,0,:]\n",
    "\n",
    "    # 폐합된(closed) 다각형(polygon) 좌표군을 생성한다.\n",
    "    polyg = np.append(contour_array, contour_array[0,:].reshape(1,2), axis=0)\n",
    "    \n",
    "    # Equivalent diameter를 구한다.\n",
    "    area = cv2.contourArea(contours[set])\n",
    "    equi_diameter = np.sqrt(4*area/np.pi)\n",
    "    \n",
    "    return contour_array, polyg, equi_diameter\n"
   ]
  },
  {
   "cell_type": "code",
   "execution_count": 4,
   "metadata": {
    "tags": []
   },
   "outputs": [],
   "source": [
    "def find_eqdpt(polyg, numOfSegments):\n",
    "\n",
    "    #Find Contour Perimeter\n",
    "    perimeter = cv2.arcLength(polyg,True)\n",
    "\n",
    "    #Find Segment length\n",
    "    SegLength = perimeter/numOfSegments\n",
    "\n",
    "    lastpt = polyg[0:1] #제일 첫 point를 last point로 설정\n",
    "    eqdpt  = polyg[0:1]\n",
    "    polyIdx = 0\n",
    "    lenToGo = SegLength\n",
    "\n",
    "    while len(eqdpt)<numOfSegments:\n",
    "        lenOnPolyline = np.linalg.norm(polyg[polyIdx+1]-lastpt)\n",
    "        if lenOnPolyline > lenToGo:\n",
    "            unitv = polyg[polyIdx+1]-lastpt\n",
    "            unitv = unitv / np.linalg.norm(unitv)       \n",
    "            lastpt = unitv*lenToGo + lastpt\n",
    "            eqdpt = np.append(eqdpt,lastpt.reshape(1,2),axis=0)\n",
    "            lenToGo = SegLength\n",
    "        else:\n",
    "            lenToGo = lenToGo - lenOnPolyline\n",
    "            polyIdx += 1\n",
    "            lastpt = polyg[polyIdx]    \n",
    "    \n",
    "    return eqdpt"
   ]
  },
  {
   "cell_type": "code",
   "execution_count": 5,
   "metadata": {
    "tags": []
   },
   "outputs": [],
   "source": [
    "def trans_eqdpt(eqdpt, polyg, contour_array):\n",
    "    # Find Centroid\n",
    "    M = cv2.moments(contour_array)\n",
    "    cX = np.int32(M[\"m10\"]/M[\"m00\"])\n",
    "    cY = np.int32(M[\"m01\"]/M[\"m00\"])\n",
    "\n",
    "    # Translate Contour points\n",
    "    centroid = np.empty(contour_array.shape)\n",
    "    centroid[:,0] = cX\n",
    "    centroid[:,1] = cY\n",
    "    contour_array = contour_array - centroid\n",
    "\n",
    "    centroid = np.empty(polyg.shape)\n",
    "    centroid[:,0] = cX\n",
    "    centroid[:,1] = cY\n",
    "    polyg = polyg - centroid\n",
    "        \n",
    "    centroid = np.empty(eqdpt.shape)\n",
    "    centroid[:,0] = cX\n",
    "    centroid[:,1] = cY\n",
    "    \n",
    "    eqdpt = eqdpt - centroid\n",
    "    \n",
    "    return eqdpt, polyg, contour_array"
   ]
  },
  {
   "cell_type": "code",
   "execution_count": 6,
   "metadata": {
    "tags": []
   },
   "outputs": [],
   "source": [
    "def find_FD(eqdpt,sig_num):\n",
    "\n",
    "    # 푸리에 변환에 사용할 절점 g의 갯수 = M\n",
    "    M = len(eqdpt)    \n",
    "    \n",
    "    #2차원 Fourier 변환을 위한 준비(복소수형태로 좌표를 변환시킴) --> fft 변환 --> fourier_result에 coef값 저장\n",
    "    eqdpt_complex = np.empty(eqdpt.shape[:-1],dtype=complex)\n",
    "    eqdpt_complex.real = eqdpt[:,0]\n",
    "    eqdpt_complex.imag = eqdpt[:,1]\n",
    "\n",
    "    fft_result = np.fft.fft(eqdpt_complex)  # np.fft.fft로 구한 coef값은 1/M되지 않았다.\n",
    "    fft_result = fft_result/M  # 1/M로 나눠주었다.\n",
    "    fftshifted = np.fft.fftshift(fft_result)  # fftshift가 zero-freq를 중앙으로 위치시킨다.\n",
    "    \n",
    "    #sig_num 가 몇개를 추출할지 결정 (pair의 갯수임)\n",
    "    if (len(fftshifted) % 2) == 0:\n",
    "        center_index = len(fftshifted)/2\n",
    "    else:\n",
    "        center_index = (len(fftshifted)+1)/2\n",
    "    start = np.int32(center_index - sig_num)\n",
    "    end   = np.int32(center_index + sig_num) +1\n",
    "\n",
    "    #print('center,start,end=',center_index,start,end)\n",
    "    \n",
    "    G = fftshifted[start:end]  #start와 end 사이의 중앙값이 가장 큰 coef를 가진다.\n",
    "    \n",
    "    # Calculate Magnitude of Fourier Descriptor Coefficients\n",
    "    G_real = G.real\n",
    "    G_imag = G.imag\n",
    "    G_mag  = np.sqrt(G_real**2+G_imag**2)\n",
    "    \n",
    "    return G_mag, G_real, G_imag, fft_result, fftshifted"
   ]
  },
  {
   "cell_type": "code",
   "execution_count": 7,
   "metadata": {
    "tags": []
   },
   "outputs": [],
   "source": [
    "def dcfft(img_nm,numOfseg,sig_num):\n",
    "\n",
    "    thresh = fcall(img_nm)\n",
    "    \n",
    "    #입자 이미지의 경계면 좌표를 찾는다.\n",
    "    contour_array, polyg, eqdia = find_a_contour(thresh)\n",
    "    \n",
    "    #앞서 얻은 경계면 좌표 간격은 일정하지 않다. 이를 일정한 간격이 되도록 좌표를 다시 찾는다.\n",
    "    #numOfSegments = by input param   #등간격 세그먼트의 숫자를 지정한다. 2^n 으로 지정\n",
    "    eqdpt = find_eqdpt(polyg, numOfseg)\n",
    "    \n",
    "    #좌표군들의 도심이 원점이 되도록 이동(translation)시킨다.\n",
    "    eqdpt, polyg, contour_array = trans_eqdpt(eqdpt, polyg, contour_array)\n",
    "\n",
    "    #FFT를 실시하여 Fourier Descriptor를 찾는다.\n",
    "    #sig_num = by input param         #중심을 기준으로 추출할 FD의 갯수를 정한다.\n",
    "    idx = pd.DataFrame({'idx':np.arange(-sig_num,sig_num+1)})\n",
    "    \n",
    "    a,b,c,d,e = find_FD(eqdpt,sig_num)\n",
    "    \n",
    "    df1 = pd.DataFrame({'mag':a,'real':b,'imag':c})\n",
    "    df2 = pd.DataFrame({'fft_result':d,'fftshift_result':e})\n",
    "    df3 = pd.DataFrame({'x0':eqdpt[:,0],'y0':eqdpt[:,1]})\n",
    "    \n",
    "    return df1, df2, df3, eqdia"
   ]
  },
  {
   "cell_type": "code",
   "execution_count": 8,
   "metadata": {},
   "outputs": [],
   "source": [
    "def fdrecon(N, sig_num, df):\n",
    "    \n",
    "    x1 = []\n",
    "    y1 = []\n",
    "\n",
    "    for k in np.arange(0, N, 1):\n",
    "        t = k / N\n",
    "        x = 0\n",
    "        y = 0\n",
    "\n",
    "        for m in np.arange(-sig_num, sig_num + 1):\n",
    "            phi = 2 * np.pi * m * t\n",
    "            A = df.loc[m, 'std_real']\n",
    "            B = df.loc[m, 'std_imag']\n",
    "            x += A * np.cos(phi) - B * np.sin(phi)\n",
    "            y += A * np.sin(phi) + B * np.cos(phi)\n",
    "\n",
    "        x1.append(x)\n",
    "        y1.append(y)\n",
    "\n",
    "    # Plotting the contour and filling it\n",
    "    plt.fill(x1, y1, color='black')\n",
    "\n",
    "    # Remove the axis and grid lines\n",
    "    plt.axis('equal')\n",
    "    plt.axis('off')\n",
    "    \n",
    "    plt.title(\"Standard Figure\")\n",
    "    file_name = \"Standard Figure.png\"\n",
    "    cwd = os.getcwd()\n",
    "    folder_path = cwd\n",
    "    save_path = os.path.join(folder_path, file_name)\n",
    "    fig = plt.gcf()\n",
    "    fig.savefig(save_path, dpi=300, bbox_inches='tight')\n",
    "\n",
    "    # Show the plot\n",
    "    plt.show()"
   ]
  },
  {
   "cell_type": "code",
   "execution_count": 9,
   "metadata": {
    "tags": []
   },
   "outputs": [],
   "source": [
    "numOfseg = 256   #[중요] 등간격 세그먼트의 숫자를 지정한다. 2^n 으로 지정\n",
    "sig_num = 21      #[중요] Zero-Freq 중심을 기준으로 아래 위로 추출할 FD의 갯수를 정한다. (Pair의 숫자임)"
   ]
  },
  {
   "cell_type": "code",
   "execution_count": 10,
   "metadata": {},
   "outputs": [
    {
     "name": "stderr",
     "output_type": "stream",
     "text": [
      "100%|██████████| 2/2 [00:00<00:00, 18.01it/s]\n"
     ]
    }
   ],
   "source": [
    "mylist = [f for f in sorted(glob.glob(\"Standard*.png\"))]  #읽어들일 파일의 확장자 확인할것\n",
    "\n",
    "mag = pd.DataFrame({'idx':np.arange(-sig_num,sig_num+1)})\n",
    "real = mag\n",
    "imag = mag\n",
    "\n",
    "x0 = pd.DataFrame()\n",
    "y0 = pd.DataFrame()\n",
    "eqdia = pd.DataFrame()\n",
    "\n",
    "for img_nm in tqdm(mylist[:]):\n",
    "    title = img_nm[:-4]\n",
    "    df1,df2,df3,eqd = dcfft(title,numOfseg,sig_num)\n",
    "    mag  = pd.concat([mag, df1['mag']],axis=1)\n",
    "    real = pd.concat([real,df1['real']],axis=1)\n",
    "    imag = pd.concat([imag,df1['imag']],axis=1)\n",
    "    x0 = pd.concat([x0,df3['x0']],axis=1)\n",
    "    y0 = pd.concat([y0,df3['y0']],axis=1)\n",
    "    d = pd.DataFrame([eqd])\n",
    "    eqdia = pd.concat([eqdia,d],axis=1)\n",
    "    \n",
    "mag = mag.set_index('idx')    \n",
    "real = real.set_index('idx')\n",
    "imag = imag.set_index('idx')\n",
    "\n",
    "mag.columns = mylist\n",
    "real.columns = mylist\n",
    "imag.columns = mylist\n",
    "x0.columns = mylist\n",
    "y0.columns = mylist\n",
    "eqdia.columns = mylist\n",
    "\n",
    "mag.index = mag.index + 1\n",
    "real.index = real.index + 1\n",
    "imag.index = imag.index + 1\n",
    "mag.drop([21,22], axis=0, inplace=True)\n",
    "real.drop([21,22], axis=0, inplace=True)\n",
    "imag.drop([21,22], axis=0, inplace=True)"
   ]
  },
  {
   "cell_type": "code",
   "execution_count": 11,
   "metadata": {
    "tags": []
   },
   "outputs": [
    {
     "ename": "PermissionError",
     "evalue": "[Errno 13] Permission denied: 'mag_ori.csv'",
     "output_type": "error",
     "traceback": [
      "\u001b[1;31m---------------------------------------------------------------------------\u001b[0m",
      "\u001b[1;31mPermissionError\u001b[0m                           Traceback (most recent call last)",
      "Cell \u001b[1;32mIn[11], line 1\u001b[0m\n\u001b[1;32m----> 1\u001b[0m \u001b[43mmag\u001b[49m\u001b[38;5;241;43m.\u001b[39;49m\u001b[43mto_csv\u001b[49m\u001b[43m(\u001b[49m\u001b[38;5;124;43m'\u001b[39;49m\u001b[38;5;124;43mmag_ori.csv\u001b[39;49m\u001b[38;5;124;43m'\u001b[39;49m\u001b[43m)\u001b[49m\n\u001b[0;32m      2\u001b[0m real\u001b[38;5;241m.\u001b[39mto_csv(\u001b[38;5;124m'\u001b[39m\u001b[38;5;124mreal_ori.csv\u001b[39m\u001b[38;5;124m'\u001b[39m)\n\u001b[0;32m      3\u001b[0m imag\u001b[38;5;241m.\u001b[39mto_csv(\u001b[38;5;124m'\u001b[39m\u001b[38;5;124mimag_ori.csv\u001b[39m\u001b[38;5;124m'\u001b[39m)\n",
      "File \u001b[1;32m~\\anaconda3\\lib\\site-packages\\pandas\\util\\_decorators.py:211\u001b[0m, in \u001b[0;36mdeprecate_kwarg.<locals>._deprecate_kwarg.<locals>.wrapper\u001b[1;34m(*args, **kwargs)\u001b[0m\n\u001b[0;32m    209\u001b[0m     \u001b[38;5;28;01melse\u001b[39;00m:\n\u001b[0;32m    210\u001b[0m         kwargs[new_arg_name] \u001b[38;5;241m=\u001b[39m new_arg_value\n\u001b[1;32m--> 211\u001b[0m \u001b[38;5;28;01mreturn\u001b[39;00m func(\u001b[38;5;241m*\u001b[39margs, \u001b[38;5;241m*\u001b[39m\u001b[38;5;241m*\u001b[39mkwargs)\n",
      "File \u001b[1;32m~\\anaconda3\\lib\\site-packages\\pandas\\core\\generic.py:3720\u001b[0m, in \u001b[0;36mNDFrame.to_csv\u001b[1;34m(self, path_or_buf, sep, na_rep, float_format, columns, header, index, index_label, mode, encoding, compression, quoting, quotechar, lineterminator, chunksize, date_format, doublequote, escapechar, decimal, errors, storage_options)\u001b[0m\n\u001b[0;32m   3709\u001b[0m df \u001b[38;5;241m=\u001b[39m \u001b[38;5;28mself\u001b[39m \u001b[38;5;28;01mif\u001b[39;00m \u001b[38;5;28misinstance\u001b[39m(\u001b[38;5;28mself\u001b[39m, ABCDataFrame) \u001b[38;5;28;01melse\u001b[39;00m \u001b[38;5;28mself\u001b[39m\u001b[38;5;241m.\u001b[39mto_frame()\n\u001b[0;32m   3711\u001b[0m formatter \u001b[38;5;241m=\u001b[39m DataFrameFormatter(\n\u001b[0;32m   3712\u001b[0m     frame\u001b[38;5;241m=\u001b[39mdf,\n\u001b[0;32m   3713\u001b[0m     header\u001b[38;5;241m=\u001b[39mheader,\n\u001b[1;32m   (...)\u001b[0m\n\u001b[0;32m   3717\u001b[0m     decimal\u001b[38;5;241m=\u001b[39mdecimal,\n\u001b[0;32m   3718\u001b[0m )\n\u001b[1;32m-> 3720\u001b[0m \u001b[38;5;28;01mreturn\u001b[39;00m \u001b[43mDataFrameRenderer\u001b[49m\u001b[43m(\u001b[49m\u001b[43mformatter\u001b[49m\u001b[43m)\u001b[49m\u001b[38;5;241;43m.\u001b[39;49m\u001b[43mto_csv\u001b[49m\u001b[43m(\u001b[49m\n\u001b[0;32m   3721\u001b[0m \u001b[43m    \u001b[49m\u001b[43mpath_or_buf\u001b[49m\u001b[43m,\u001b[49m\n\u001b[0;32m   3722\u001b[0m \u001b[43m    \u001b[49m\u001b[43mlineterminator\u001b[49m\u001b[38;5;241;43m=\u001b[39;49m\u001b[43mlineterminator\u001b[49m\u001b[43m,\u001b[49m\n\u001b[0;32m   3723\u001b[0m \u001b[43m    \u001b[49m\u001b[43msep\u001b[49m\u001b[38;5;241;43m=\u001b[39;49m\u001b[43msep\u001b[49m\u001b[43m,\u001b[49m\n\u001b[0;32m   3724\u001b[0m \u001b[43m    \u001b[49m\u001b[43mencoding\u001b[49m\u001b[38;5;241;43m=\u001b[39;49m\u001b[43mencoding\u001b[49m\u001b[43m,\u001b[49m\n\u001b[0;32m   3725\u001b[0m \u001b[43m    \u001b[49m\u001b[43merrors\u001b[49m\u001b[38;5;241;43m=\u001b[39;49m\u001b[43merrors\u001b[49m\u001b[43m,\u001b[49m\n\u001b[0;32m   3726\u001b[0m \u001b[43m    \u001b[49m\u001b[43mcompression\u001b[49m\u001b[38;5;241;43m=\u001b[39;49m\u001b[43mcompression\u001b[49m\u001b[43m,\u001b[49m\n\u001b[0;32m   3727\u001b[0m \u001b[43m    \u001b[49m\u001b[43mquoting\u001b[49m\u001b[38;5;241;43m=\u001b[39;49m\u001b[43mquoting\u001b[49m\u001b[43m,\u001b[49m\n\u001b[0;32m   3728\u001b[0m \u001b[43m    \u001b[49m\u001b[43mcolumns\u001b[49m\u001b[38;5;241;43m=\u001b[39;49m\u001b[43mcolumns\u001b[49m\u001b[43m,\u001b[49m\n\u001b[0;32m   3729\u001b[0m \u001b[43m    \u001b[49m\u001b[43mindex_label\u001b[49m\u001b[38;5;241;43m=\u001b[39;49m\u001b[43mindex_label\u001b[49m\u001b[43m,\u001b[49m\n\u001b[0;32m   3730\u001b[0m \u001b[43m    \u001b[49m\u001b[43mmode\u001b[49m\u001b[38;5;241;43m=\u001b[39;49m\u001b[43mmode\u001b[49m\u001b[43m,\u001b[49m\n\u001b[0;32m   3731\u001b[0m \u001b[43m    \u001b[49m\u001b[43mchunksize\u001b[49m\u001b[38;5;241;43m=\u001b[39;49m\u001b[43mchunksize\u001b[49m\u001b[43m,\u001b[49m\n\u001b[0;32m   3732\u001b[0m \u001b[43m    \u001b[49m\u001b[43mquotechar\u001b[49m\u001b[38;5;241;43m=\u001b[39;49m\u001b[43mquotechar\u001b[49m\u001b[43m,\u001b[49m\n\u001b[0;32m   3733\u001b[0m \u001b[43m    \u001b[49m\u001b[43mdate_format\u001b[49m\u001b[38;5;241;43m=\u001b[39;49m\u001b[43mdate_format\u001b[49m\u001b[43m,\u001b[49m\n\u001b[0;32m   3734\u001b[0m \u001b[43m    \u001b[49m\u001b[43mdoublequote\u001b[49m\u001b[38;5;241;43m=\u001b[39;49m\u001b[43mdoublequote\u001b[49m\u001b[43m,\u001b[49m\n\u001b[0;32m   3735\u001b[0m \u001b[43m    \u001b[49m\u001b[43mescapechar\u001b[49m\u001b[38;5;241;43m=\u001b[39;49m\u001b[43mescapechar\u001b[49m\u001b[43m,\u001b[49m\n\u001b[0;32m   3736\u001b[0m \u001b[43m    \u001b[49m\u001b[43mstorage_options\u001b[49m\u001b[38;5;241;43m=\u001b[39;49m\u001b[43mstorage_options\u001b[49m\u001b[43m,\u001b[49m\n\u001b[0;32m   3737\u001b[0m \u001b[43m\u001b[49m\u001b[43m)\u001b[49m\n",
      "File \u001b[1;32m~\\anaconda3\\lib\\site-packages\\pandas\\util\\_decorators.py:211\u001b[0m, in \u001b[0;36mdeprecate_kwarg.<locals>._deprecate_kwarg.<locals>.wrapper\u001b[1;34m(*args, **kwargs)\u001b[0m\n\u001b[0;32m    209\u001b[0m     \u001b[38;5;28;01melse\u001b[39;00m:\n\u001b[0;32m    210\u001b[0m         kwargs[new_arg_name] \u001b[38;5;241m=\u001b[39m new_arg_value\n\u001b[1;32m--> 211\u001b[0m \u001b[38;5;28;01mreturn\u001b[39;00m func(\u001b[38;5;241m*\u001b[39margs, \u001b[38;5;241m*\u001b[39m\u001b[38;5;241m*\u001b[39mkwargs)\n",
      "File \u001b[1;32m~\\anaconda3\\lib\\site-packages\\pandas\\io\\formats\\format.py:1189\u001b[0m, in \u001b[0;36mDataFrameRenderer.to_csv\u001b[1;34m(self, path_or_buf, encoding, sep, columns, index_label, mode, compression, quoting, quotechar, lineterminator, chunksize, date_format, doublequote, escapechar, errors, storage_options)\u001b[0m\n\u001b[0;32m   1168\u001b[0m     created_buffer \u001b[38;5;241m=\u001b[39m \u001b[38;5;28;01mFalse\u001b[39;00m\n\u001b[0;32m   1170\u001b[0m csv_formatter \u001b[38;5;241m=\u001b[39m CSVFormatter(\n\u001b[0;32m   1171\u001b[0m     path_or_buf\u001b[38;5;241m=\u001b[39mpath_or_buf,\n\u001b[0;32m   1172\u001b[0m     lineterminator\u001b[38;5;241m=\u001b[39mlineterminator,\n\u001b[1;32m   (...)\u001b[0m\n\u001b[0;32m   1187\u001b[0m     formatter\u001b[38;5;241m=\u001b[39m\u001b[38;5;28mself\u001b[39m\u001b[38;5;241m.\u001b[39mfmt,\n\u001b[0;32m   1188\u001b[0m )\n\u001b[1;32m-> 1189\u001b[0m \u001b[43mcsv_formatter\u001b[49m\u001b[38;5;241;43m.\u001b[39;49m\u001b[43msave\u001b[49m\u001b[43m(\u001b[49m\u001b[43m)\u001b[49m\n\u001b[0;32m   1191\u001b[0m \u001b[38;5;28;01mif\u001b[39;00m created_buffer:\n\u001b[0;32m   1192\u001b[0m     \u001b[38;5;28;01massert\u001b[39;00m \u001b[38;5;28misinstance\u001b[39m(path_or_buf, StringIO)\n",
      "File \u001b[1;32m~\\anaconda3\\lib\\site-packages\\pandas\\io\\formats\\csvs.py:241\u001b[0m, in \u001b[0;36mCSVFormatter.save\u001b[1;34m(self)\u001b[0m\n\u001b[0;32m    237\u001b[0m \u001b[38;5;250m\u001b[39m\u001b[38;5;124;03m\"\"\"\u001b[39;00m\n\u001b[0;32m    238\u001b[0m \u001b[38;5;124;03mCreate the writer & save.\u001b[39;00m\n\u001b[0;32m    239\u001b[0m \u001b[38;5;124;03m\"\"\"\u001b[39;00m\n\u001b[0;32m    240\u001b[0m \u001b[38;5;66;03m# apply compression and byte/text conversion\u001b[39;00m\n\u001b[1;32m--> 241\u001b[0m \u001b[38;5;28;01mwith\u001b[39;00m \u001b[43mget_handle\u001b[49m\u001b[43m(\u001b[49m\n\u001b[0;32m    242\u001b[0m \u001b[43m    \u001b[49m\u001b[38;5;28;43mself\u001b[39;49m\u001b[38;5;241;43m.\u001b[39;49m\u001b[43mfilepath_or_buffer\u001b[49m\u001b[43m,\u001b[49m\n\u001b[0;32m    243\u001b[0m \u001b[43m    \u001b[49m\u001b[38;5;28;43mself\u001b[39;49m\u001b[38;5;241;43m.\u001b[39;49m\u001b[43mmode\u001b[49m\u001b[43m,\u001b[49m\n\u001b[0;32m    244\u001b[0m \u001b[43m    \u001b[49m\u001b[43mencoding\u001b[49m\u001b[38;5;241;43m=\u001b[39;49m\u001b[38;5;28;43mself\u001b[39;49m\u001b[38;5;241;43m.\u001b[39;49m\u001b[43mencoding\u001b[49m\u001b[43m,\u001b[49m\n\u001b[0;32m    245\u001b[0m \u001b[43m    \u001b[49m\u001b[43merrors\u001b[49m\u001b[38;5;241;43m=\u001b[39;49m\u001b[38;5;28;43mself\u001b[39;49m\u001b[38;5;241;43m.\u001b[39;49m\u001b[43merrors\u001b[49m\u001b[43m,\u001b[49m\n\u001b[0;32m    246\u001b[0m \u001b[43m    \u001b[49m\u001b[43mcompression\u001b[49m\u001b[38;5;241;43m=\u001b[39;49m\u001b[38;5;28;43mself\u001b[39;49m\u001b[38;5;241;43m.\u001b[39;49m\u001b[43mcompression\u001b[49m\u001b[43m,\u001b[49m\n\u001b[0;32m    247\u001b[0m \u001b[43m    \u001b[49m\u001b[43mstorage_options\u001b[49m\u001b[38;5;241;43m=\u001b[39;49m\u001b[38;5;28;43mself\u001b[39;49m\u001b[38;5;241;43m.\u001b[39;49m\u001b[43mstorage_options\u001b[49m\u001b[43m,\u001b[49m\n\u001b[0;32m    248\u001b[0m \u001b[43m\u001b[49m\u001b[43m)\u001b[49m \u001b[38;5;28;01mas\u001b[39;00m handles:\n\u001b[0;32m    249\u001b[0m \n\u001b[0;32m    250\u001b[0m     \u001b[38;5;66;03m# Note: self.encoding is irrelevant here\u001b[39;00m\n\u001b[0;32m    251\u001b[0m     \u001b[38;5;28mself\u001b[39m\u001b[38;5;241m.\u001b[39mwriter \u001b[38;5;241m=\u001b[39m csvlib\u001b[38;5;241m.\u001b[39mwriter(\n\u001b[0;32m    252\u001b[0m         handles\u001b[38;5;241m.\u001b[39mhandle,\n\u001b[0;32m    253\u001b[0m         lineterminator\u001b[38;5;241m=\u001b[39m\u001b[38;5;28mself\u001b[39m\u001b[38;5;241m.\u001b[39mlineterminator,\n\u001b[1;32m   (...)\u001b[0m\n\u001b[0;32m    258\u001b[0m         quotechar\u001b[38;5;241m=\u001b[39m\u001b[38;5;28mself\u001b[39m\u001b[38;5;241m.\u001b[39mquotechar,\n\u001b[0;32m    259\u001b[0m     )\n\u001b[0;32m    261\u001b[0m     \u001b[38;5;28mself\u001b[39m\u001b[38;5;241m.\u001b[39m_save()\n",
      "File \u001b[1;32m~\\anaconda3\\lib\\site-packages\\pandas\\io\\common.py:856\u001b[0m, in \u001b[0;36mget_handle\u001b[1;34m(path_or_buf, mode, encoding, compression, memory_map, is_text, errors, storage_options)\u001b[0m\n\u001b[0;32m    851\u001b[0m \u001b[38;5;28;01melif\u001b[39;00m \u001b[38;5;28misinstance\u001b[39m(handle, \u001b[38;5;28mstr\u001b[39m):\n\u001b[0;32m    852\u001b[0m     \u001b[38;5;66;03m# Check whether the filename is to be opened in binary mode.\u001b[39;00m\n\u001b[0;32m    853\u001b[0m     \u001b[38;5;66;03m# Binary mode does not support 'encoding' and 'newline'.\u001b[39;00m\n\u001b[0;32m    854\u001b[0m     \u001b[38;5;28;01mif\u001b[39;00m ioargs\u001b[38;5;241m.\u001b[39mencoding \u001b[38;5;129;01mand\u001b[39;00m \u001b[38;5;124m\"\u001b[39m\u001b[38;5;124mb\u001b[39m\u001b[38;5;124m\"\u001b[39m \u001b[38;5;129;01mnot\u001b[39;00m \u001b[38;5;129;01min\u001b[39;00m ioargs\u001b[38;5;241m.\u001b[39mmode:\n\u001b[0;32m    855\u001b[0m         \u001b[38;5;66;03m# Encoding\u001b[39;00m\n\u001b[1;32m--> 856\u001b[0m         handle \u001b[38;5;241m=\u001b[39m \u001b[38;5;28;43mopen\u001b[39;49m\u001b[43m(\u001b[49m\n\u001b[0;32m    857\u001b[0m \u001b[43m            \u001b[49m\u001b[43mhandle\u001b[49m\u001b[43m,\u001b[49m\n\u001b[0;32m    858\u001b[0m \u001b[43m            \u001b[49m\u001b[43mioargs\u001b[49m\u001b[38;5;241;43m.\u001b[39;49m\u001b[43mmode\u001b[49m\u001b[43m,\u001b[49m\n\u001b[0;32m    859\u001b[0m \u001b[43m            \u001b[49m\u001b[43mencoding\u001b[49m\u001b[38;5;241;43m=\u001b[39;49m\u001b[43mioargs\u001b[49m\u001b[38;5;241;43m.\u001b[39;49m\u001b[43mencoding\u001b[49m\u001b[43m,\u001b[49m\n\u001b[0;32m    860\u001b[0m \u001b[43m            \u001b[49m\u001b[43merrors\u001b[49m\u001b[38;5;241;43m=\u001b[39;49m\u001b[43merrors\u001b[49m\u001b[43m,\u001b[49m\n\u001b[0;32m    861\u001b[0m \u001b[43m            \u001b[49m\u001b[43mnewline\u001b[49m\u001b[38;5;241;43m=\u001b[39;49m\u001b[38;5;124;43m\"\u001b[39;49m\u001b[38;5;124;43m\"\u001b[39;49m\u001b[43m,\u001b[49m\n\u001b[0;32m    862\u001b[0m \u001b[43m        \u001b[49m\u001b[43m)\u001b[49m\n\u001b[0;32m    863\u001b[0m     \u001b[38;5;28;01melse\u001b[39;00m:\n\u001b[0;32m    864\u001b[0m         \u001b[38;5;66;03m# Binary mode\u001b[39;00m\n\u001b[0;32m    865\u001b[0m         handle \u001b[38;5;241m=\u001b[39m \u001b[38;5;28mopen\u001b[39m(handle, ioargs\u001b[38;5;241m.\u001b[39mmode)\n",
      "\u001b[1;31mPermissionError\u001b[0m: [Errno 13] Permission denied: 'mag_ori.csv'"
     ]
    }
   ],
   "source": [
    "mag.to_csv('mag_ori.csv')\n",
    "real.to_csv('real_ori.csv')\n",
    "imag.to_csv('imag_ori.csv')"
   ]
  }
 ],
 "metadata": {
  "kernelspec": {
   "display_name": "Python 3 (ipykernel)",
   "language": "python",
   "name": "python3"
  },
  "language_info": {
   "codemirror_mode": {
    "name": "ipython",
    "version": 3
   },
   "file_extension": ".py",
   "mimetype": "text/x-python",
   "name": "python",
   "nbconvert_exporter": "python",
   "pygments_lexer": "ipython3",
   "version": "3.10.9"
  },
  "toc-autonumbering": false,
  "toc-showcode": false,
  "toc-showmarkdowntxt": false
 },
 "nbformat": 4,
 "nbformat_minor": 4
}
