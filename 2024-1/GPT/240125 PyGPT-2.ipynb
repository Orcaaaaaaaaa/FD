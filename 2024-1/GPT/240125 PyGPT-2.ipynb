{
 "cells": [
  {
   "cell_type": "code",
   "execution_count": 1,
   "id": "8eccb12a-f6a7-464a-b1b0-f55c49263c3b",
   "metadata": {
    "tags": []
   },
   "outputs": [],
   "source": [
    "import cv2\n",
    "import numpy as np"
   ]
  },
  {
   "cell_type": "code",
   "execution_count": 2,
   "id": "0f7403c2-6d25-4a8a-a885-3f41c1b8a1b2",
   "metadata": {
    "tags": []
   },
   "outputs": [],
   "source": [
    "def find_largest_contour(image):\n",
    "    contours, _ = cv2.findContours(image, cv2.RETR_EXTERNAL, cv2.CHAIN_APPROX_SIMPLE)\n",
    "    return max(contours, key=cv2.contourArea)\n",
    "\n",
    "def standardize_image(image_path, target_width, target_height):\n",
    "    # Load the image\n",
    "    image = cv2.imread(image_path, cv2.IMREAD_GRAYSCALE)\n",
    "\n",
    "    # Find the largest contour (assuming it's the shape)\n",
    "    shape_contour = find_largest_contour(image)\n",
    "\n",
    "    # Get bounding rect of the contour\n",
    "    x, y, w, h = cv2.boundingRect(shape_contour)\n",
    "\n",
    "    # Calculate the center of the shape\n",
    "    center = (x + w // 2, y + h // 2)\n",
    "\n",
    "    # Determine the angle for rotation\n",
    "    _, (width, height), angle = cv2.minAreaRect(shape_contour)\n",
    "    if width < height:\n",
    "        angle = 90 - angle\n",
    "    else:\n",
    "        angle = -angle\n",
    "\n",
    "    # Rotate the image\n",
    "    M = cv2.getRotationMatrix2D(center, angle, 1)\n",
    "    rotated = cv2.warpAffine(image, M, (image.shape[1], image.shape[0]))\n",
    "\n",
    "    # Resize the image to fit the target size\n",
    "    resized = cv2.resize(rotated, (target_width, target_height))\n",
    "\n",
    "    return resized\n",
    "\n",
    "def display_image_in_notebook(image):\n",
    "    pil_img = PILImage.fromarray(image)\n",
    "    buf = io.BytesIO()\n",
    "    pil_img.save(buf, format='PNG')\n",
    "    display(Image(data=buf.getvalue()))"
   ]
  },
  {
   "cell_type": "code",
   "execution_count": 3,
   "id": "855c2d5c-0947-40cd-a385-a7b477c20173",
   "metadata": {
    "tags": []
   },
   "outputs": [
    {
     "data": {
      "image/png": "[encoded data removed]",
      "text/plain": [
       "<IPython.core.display.Image object>"
      ]
     },
     "metadata": {},
     "output_type": "display_data"
    },
    {
     "data": {
      "image/png": "[encoded data removed]",
      "text/plain": [
       "<IPython.core.display.Image object>"
      ]
     },
     "metadata": {},
     "output_type": "display_data"
    },
    {
     "data": {
      "image/png": "[encoded data removed]",
      "text/plain": [
       "<IPython.core.display.Image object>"
      ]
     },
     "metadata": {},
     "output_type": "display_data"
    },
    {
     "data": {
      "image/png": "[encoded data removed]",
      "text/plain": [
       "<IPython.core.display.Image object>"
      ]
     },
     "metadata": {},
     "output_type": "display_data"
    },
    {
     "data": {
      "image/png": "[encoded data removed]",
      "text/plain": [
       "<IPython.core.display.Image object>"
      ]
     },
     "metadata": {},
     "output_type": "display_data"
    },
    {
     "data": {
      "image/png": "[encoded data removed]",
      "text/plain": [
       "<IPython.core.display.Image object>"
      ]
     },
     "metadata": {},
     "output_type": "display_data"
    },
    {
     "data": {
      "image/png": "[encoded data removed]",
      "text/plain": [
       "<IPython.core.display.Image object>"
      ]
     },
     "metadata": {},
     "output_type": "display_data"
    },
    {
     "data": {
      "image/png": "[encoded data removed]",
      "text/plain": [
       "<IPython.core.display.Image object>"
      ]
     },
     "metadata": {},
     "output_type": "display_data"
    },
    {
     "data": {
      "image/png": "[encoded data removed]",
      "text/plain": [
       "<IPython.core.display.Image object>"
      ]
     },
     "metadata": {},
     "output_type": "display_data"
    },
    {
     "data": {
      "image/png": "[encoded data removed]",
      "text/plain": [
       "<IPython.core.display.Image object>"
      ]
     },
     "metadata": {},
     "output_type": "display_data"
    }
   ],
   "source": [
    "TARGET_WIDTH = 100  # Example width\n",
    "TARGET_HEIGHT = 100  # Example height\n",
    "\n",
    "# Load all PNG images\n",
    "image_paths = glob.glob('*.png')\n",
    "\n",
    "# Process each image\n",
    "standardized_images = [standardize_image(path, TARGET_WIDTH, TARGET_HEIGHT) for path in image_paths]\n",
    "\n",
    "for img in standardized_images:\n",
    "    display_image_in_notebook(img)"
   ]
  }
 ],
 "metadata": {
  "kernelspec": {
   "display_name": "Python 3 (ipykernel)",
   "language": "python",
   "name": "python3"
  },
  "language_info": {
   "codemirror_mode": {
    "name": "ipython",
    "version": 3
   },
   "file_extension": ".py",
   "mimetype": "text/x-python",
   "name": "python",
   "nbconvert_exporter": "python",
   "pygments_lexer": "ipython3",
   "version": "3.10.9"
  }
 },
 "nbformat": 4,
 "nbformat_minor": 5
}
